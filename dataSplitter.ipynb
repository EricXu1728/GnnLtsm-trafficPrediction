{
 "cells": [
  {
   "cell_type": "code",
   "execution_count": 2,
   "metadata": {},
   "outputs": [
    {
     "name": "stderr",
     "output_type": "stream",
     "text": [
      "C:\\Users\\Frank\\AppData\\Local\\Temp\\ipykernel_6148\\2060389247.py:4: DtypeWarning: Columns (5,6,7) have mixed types. Specify dtype option on import or set low_memory=False.\n",
      "  data = pd.read_csv('mot_labels.csv')\n"
     ]
    },
    {
     "name": "stdout",
     "output_type": "stream",
     "text": [
      "1400\n"
     ]
    }
   ],
   "source": [
    "import pandas as pd\n",
    "\n",
    "# read in the data from a CSV file\n",
    "data = pd.read_csv('mot_labels.csv')\n",
    "\n",
    "# group the DataFrame by the \"videoName\" column and create a dictionary of DataFrames\n",
    "grouped = data.groupby('videoName')\n",
    "split_data_frames = dict(tuple(grouped))\n",
    "\n",
    "i =0\n",
    "# print the first 10 rows of each resulting DataFrame\n",
    "for key, value in split_data_frames.items():\n",
    "    i+=1\n",
    "    #print(f'DataFrame with videoName = {key}:')\n",
    "    #print(value.head(10)) # print the first 10 rows of each DataFrame\n",
    "    if(i<15):\n",
    "        value.to_csv('splitData/' +key+ '.csv')\n",
    "print(i)\n"
   ]
  },
  {
   "cell_type": "code",
   "execution_count": null,
   "metadata": {},
   "outputs": [],
   "source": []
  }
 ],
 "metadata": {
  "kernelspec": {
   "display_name": "base",
   "language": "python",
   "name": "python3"
  },
  "language_info": {
   "codemirror_mode": {
    "name": "ipython",
    "version": 3
   },
   "file_extension": ".py",
   "mimetype": "text/x-python",
   "name": "python",
   "nbconvert_exporter": "python",
   "pygments_lexer": "ipython3",
   "version": "3.9.13"
  },
  "orig_nbformat": 4
 },
 "nbformat": 4,
 "nbformat_minor": 2
}
