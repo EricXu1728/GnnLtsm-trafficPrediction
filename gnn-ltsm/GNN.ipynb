{
 "cells": [
  {
   "cell_type": "code",
   "execution_count": 1,
   "metadata": {},
   "outputs": [],
   "source": [
    "\n",
    "import torch\n",
    "from torch_geometric.data import Data\n",
    "import numpy as np\n",
    "import torch\n",
    "\n",
    "def create_edge_index(n):\n",
    "   # create edge_index tensor\n",
    "    edge_index = torch.zeros((2, n*n), dtype=torch.long)\n",
    "\n",
    "    # fill edge_index tensor with connections\n",
    "    for i in range(n):\n",
    "        for j in range(n):\n",
    "            if i != j:\n",
    "                edge_index[0, i*n+j] = i\n",
    "                edge_index[1, i*n+j] = j\n",
    "\n",
    "    # add reverse connections\n",
    "    edge_index = torch.cat([edge_index, torch.stack([edge_index[1], edge_index[0]], dim=0)], dim=1)\n",
    "    return edge_index\n",
    "\n",
    "\n",
    "def graphFrame(frame, df):\n",
    "    data = df[df['frameIndex'] == frame]\n",
    "    object_ids = data[\"id\"]\n",
    "    node_count = object_ids.count()\n",
    "    edge_indexies = create_edge_index(node_count)\n",
    "    attributes = data[['category','attributes.crowd','box2d.x1','box2d.x2','box2d.y1','box2d.y2']]\n",
    "    attributes['attributes.crowd'] = attributes['attributes.crowd'].map({True: 1, False: 0})\n",
    "    attributes['category'] = attributes['category'].map({'car': 1, 'pedestrian': 0, 3: 3}).fillna(3).astype(int)\n",
    "\n",
    "\n",
    "    # convert numpy array to tensor\n",
    "    x = torch.Tensor(attributes.select_dtypes(include=[np.number]).values)\n",
    "    graphData = Data(x=x, edge_index=edge_indexies)\n",
    "    return data, graphData, object_ids, attributes, node_count"
   ]
  },
  {
   "cell_type": "code",
   "execution_count": 2,
   "metadata": {},
   "outputs": [
    {
     "name": "stdout",
     "output_type": "stream",
     "text": [
      "tensor([[0, 0, 0, 0, 0, 1, 0, 1, 1, 1, 2, 2, 0, 2, 2, 3, 3, 3, 0, 3, 4, 4, 4, 4,\n",
      "         0, 0, 1, 2, 3, 4, 0, 0, 2, 3, 4, 0, 1, 0, 3, 4, 0, 1, 2, 0, 4, 0, 1, 2,\n",
      "         3, 0],\n",
      "        [0, 1, 2, 3, 4, 0, 0, 2, 3, 4, 0, 1, 0, 3, 4, 0, 1, 2, 0, 4, 0, 1, 2, 3,\n",
      "         0, 0, 0, 0, 0, 0, 1, 0, 1, 1, 1, 2, 2, 0, 2, 2, 3, 3, 3, 0, 3, 4, 4, 4,\n",
      "         4, 0]])\n"
     ]
    }
   ],
   "source": [
    "\n",
    "print(create_edge_index(5))"
   ]
  },
  {
   "cell_type": "code",
   "execution_count": 3,
   "metadata": {},
   "outputs": [
    {
     "name": "stderr",
     "output_type": "stream",
     "text": [
      "C:\\Users\\Frank\\AppData\\Local\\Temp\\ipykernel_23756\\83198924.py:30: SettingWithCopyWarning: \n",
      "A value is trying to be set on a copy of a slice from a DataFrame.\n",
      "Try using .loc[row_indexer,col_indexer] = value instead\n",
      "\n",
      "See the caveats in the documentation: https://pandas.pydata.org/pandas-docs/stable/user_guide/indexing.html#returning-a-view-versus-a-copy\n",
      "  attributes['attributes.crowd'] = attributes['attributes.crowd'].map({True: 1, False: 0})\n",
      "C:\\Users\\Frank\\AppData\\Local\\Temp\\ipykernel_23756\\83198924.py:31: SettingWithCopyWarning: \n",
      "A value is trying to be set on a copy of a slice from a DataFrame.\n",
      "Try using .loc[row_indexer,col_indexer] = value instead\n",
      "\n",
      "See the caveats in the documentation: https://pandas.pydata.org/pandas-docs/stable/user_guide/indexing.html#returning-a-view-versus-a-copy\n",
      "  attributes['category'] = attributes['category'].map({'car': 1, 'pedestrian': 0, 3: 3}).fillna(3).astype(int)\n"
     ]
    }
   ],
   "source": [
    "import pandas as pd\n",
    "\n",
    "# read in the data from a CSV file\n",
    "df = pd.read_csv('splitData/0000f77c-62c2a288.csv')\n",
    "data, graphData, object_ids, attributes, node_count = graphFrame(0, df)"
   ]
  },
  {
   "cell_type": "code",
   "execution_count": 4,
   "metadata": {},
   "outputs": [
    {
     "data": {
      "text/plain": [
       "Data(x=[3, 6], edge_index=[2, 18])"
      ]
     },
     "execution_count": 4,
     "metadata": {},
     "output_type": "execute_result"
    }
   ],
   "source": [
    "graphData"
   ]
  },
  {
   "cell_type": "code",
   "execution_count": 5,
   "metadata": {},
   "outputs": [
    {
     "name": "stdout",
     "output_type": "stream",
     "text": [
      "   Unnamed: 0                           name          videoName  frameIndex  \\\n",
      "0     2837858  0000f77c-62c2a288-0000001.jpg  0000f77c-62c2a288           0   \n",
      "1     2837859  0000f77c-62c2a288-0000001.jpg  0000f77c-62c2a288           0   \n",
      "2     2837860  0000f77c-62c2a288-0000001.jpg  0000f77c-62c2a288           0   \n",
      "\n",
      "        id    category attributes.crowd attributes.occluded  \\\n",
      "0  20715.0         car            False               False   \n",
      "1  20716.0  pedestrian            False               False   \n",
      "2  20717.0  pedestrian            False               False   \n",
      "\n",
      "  attributes.truncated    box2d.x1    box2d.x2    box2d.y1    box2d.y2  \\\n",
      "0                False  123.834586  236.165414  338.345865  396.541353   \n",
      "1                False  244.285714  263.233083  346.466165  378.947368   \n",
      "2                False  257.819549  278.120301  339.699248  378.947368   \n",
      "\n",
      "   haveVideo  \n",
      "0       True  \n",
      "1       True  \n",
      "2       True  \n",
      "0    20715.0\n",
      "1    20716.0\n",
      "2    20717.0\n",
      "Name: id, dtype: float64\n",
      "3\n"
     ]
    }
   ],
   "source": [
    "print(data)\n",
    "print(object_ids)\n",
    "print(node_count)"
   ]
  },
  {
   "cell_type": "code",
   "execution_count": 6,
   "metadata": {},
   "outputs": [],
   "source": [
    "#category,attributes.crowd,box2d.x1,box2d.x2,box2d.y1,box2d.y2\n",
    "import torch_geometric.nn.models as tgm\n",
    "\n",
    "lookback = 5#use past 5 frames\n",
    "hidden_channels = 10# don't know what this is\n",
    "layers =10\n",
    "out_channel = 1\n",
    "\n",
    "\n",
    "m = tgm.GCN(lookback, hidden_channels, layers, out_channel)"
   ]
  },
  {
   "cell_type": "code",
   "execution_count": 7,
   "metadata": {},
   "outputs": [],
   "source": [
    "def graph_multFrame_test(df, first_frame, end_frame, view_length):\n",
    "    arr = np.full((end_frame-first_frame-1, view_length), -1)\n",
    "    \n",
    "    for x in range(0, end_frame-first_frame+view_length-2):\n",
    "        graph = x+first_frame#graphFrame(x+first_frame, df)\n",
    "        \n",
    "        for y in range(0, 3):\n",
    "            if((y+x<end_frame-first_frame+view_length-2)and(x+y-(view_length-1)>=0)):\n",
    "                arr[x+y-(view_length-1)][y] = graph\n",
    "                \n",
    "    \n",
    "    return arr"
   ]
  },
  {
   "cell_type": "code",
   "execution_count": 8,
   "metadata": {},
   "outputs": [
    {
     "name": "stdout",
     "output_type": "stream",
     "text": [
      "[[ 2  1  0]\n",
      " [ 3  2  1]\n",
      " [ 4  3  2]\n",
      " [ 5  4  3]\n",
      " [ 6  5  4]\n",
      " [ 7  6  5]\n",
      " [ 8  7  6]\n",
      " [ 9  8  7]\n",
      " [10  9  8]]\n",
      "[[ 3  2  1]\n",
      " [ 4  3  2]\n",
      " [ 5  4  3]\n",
      " [ 6  5  4]\n",
      " [ 7  6  5]\n",
      " [ 8  7  6]\n",
      " [ 9  8  7]\n",
      " [10  9  8]\n",
      " [11 10  9]]\n"
     ]
    }
   ],
   "source": [
    "arr= graph_multFrame_test(0, 0, 10, 3)\n",
    "print(arr)\n",
    "arr= graph_multFrame_test(0, 1, 11, 3)\n",
    "print(arr)"
   ]
  },
  {
   "cell_type": "code",
   "execution_count": 9,
   "metadata": {},
   "outputs": [],
   "source": [
    "def graph_multFrame(df, first_frame, end_frame, view_length):\n",
    "    arr = np.empty((end_frame-first_frame-1, view_length), dtype = Data)\n",
    "    \n",
    "    for x in range(0, end_frame-first_frame+view_length-2):\n",
    "        frame = x+first_frame\n",
    "        graph = graphFrame(frame, df)[1]\n",
    "        \n",
    "        #print( graph)\n",
    "        \n",
    "        for y in range(0, 3):\n",
    "            if((y+x<end_frame-first_frame+view_length-2)and(x+y-(view_length-1)>=0)):\n",
    "                arr[x+y-(view_length-1)][y] = graph\n",
    "                \n",
    "    \n",
    "    return arr"
   ]
  },
  {
   "cell_type": "code",
   "execution_count": 10,
   "metadata": {},
   "outputs": [
    {
     "name": "stderr",
     "output_type": "stream",
     "text": [
      "C:\\Users\\Frank\\AppData\\Local\\Temp\\ipykernel_23756\\83198924.py:30: SettingWithCopyWarning: \n",
      "A value is trying to be set on a copy of a slice from a DataFrame.\n",
      "Try using .loc[row_indexer,col_indexer] = value instead\n",
      "\n",
      "See the caveats in the documentation: https://pandas.pydata.org/pandas-docs/stable/user_guide/indexing.html#returning-a-view-versus-a-copy\n",
      "  attributes['attributes.crowd'] = attributes['attributes.crowd'].map({True: 1, False: 0})\n",
      "C:\\Users\\Frank\\AppData\\Local\\Temp\\ipykernel_23756\\83198924.py:31: SettingWithCopyWarning: \n",
      "A value is trying to be set on a copy of a slice from a DataFrame.\n",
      "Try using .loc[row_indexer,col_indexer] = value instead\n",
      "\n",
      "See the caveats in the documentation: https://pandas.pydata.org/pandas-docs/stable/user_guide/indexing.html#returning-a-view-versus-a-copy\n",
      "  attributes['category'] = attributes['category'].map({'car': 1, 'pedestrian': 0, 3: 3}).fillna(3).astype(int)\n",
      "C:\\Users\\Frank\\AppData\\Local\\Temp\\ipykernel_23756\\83198924.py:30: SettingWithCopyWarning: \n",
      "A value is trying to be set on a copy of a slice from a DataFrame.\n",
      "Try using .loc[row_indexer,col_indexer] = value instead\n",
      "\n",
      "See the caveats in the documentation: https://pandas.pydata.org/pandas-docs/stable/user_guide/indexing.html#returning-a-view-versus-a-copy\n",
      "  attributes['attributes.crowd'] = attributes['attributes.crowd'].map({True: 1, False: 0})\n",
      "C:\\Users\\Frank\\AppData\\Local\\Temp\\ipykernel_23756\\83198924.py:31: SettingWithCopyWarning: \n",
      "A value is trying to be set on a copy of a slice from a DataFrame.\n",
      "Try using .loc[row_indexer,col_indexer] = value instead\n",
      "\n",
      "See the caveats in the documentation: https://pandas.pydata.org/pandas-docs/stable/user_guide/indexing.html#returning-a-view-versus-a-copy\n",
      "  attributes['category'] = attributes['category'].map({'car': 1, 'pedestrian': 0, 3: 3}).fillna(3).astype(int)\n",
      "C:\\Users\\Frank\\AppData\\Local\\Temp\\ipykernel_23756\\83198924.py:30: SettingWithCopyWarning: \n",
      "A value is trying to be set on a copy of a slice from a DataFrame.\n",
      "Try using .loc[row_indexer,col_indexer] = value instead\n",
      "\n",
      "See the caveats in the documentation: https://pandas.pydata.org/pandas-docs/stable/user_guide/indexing.html#returning-a-view-versus-a-copy\n",
      "  attributes['attributes.crowd'] = attributes['attributes.crowd'].map({True: 1, False: 0})\n",
      "C:\\Users\\Frank\\AppData\\Local\\Temp\\ipykernel_23756\\83198924.py:31: SettingWithCopyWarning: \n",
      "A value is trying to be set on a copy of a slice from a DataFrame.\n",
      "Try using .loc[row_indexer,col_indexer] = value instead\n",
      "\n",
      "See the caveats in the documentation: https://pandas.pydata.org/pandas-docs/stable/user_guide/indexing.html#returning-a-view-versus-a-copy\n",
      "  attributes['category'] = attributes['category'].map({'car': 1, 'pedestrian': 0, 3: 3}).fillna(3).astype(int)\n",
      "C:\\Users\\Frank\\AppData\\Local\\Temp\\ipykernel_23756\\83198924.py:30: SettingWithCopyWarning: \n",
      "A value is trying to be set on a copy of a slice from a DataFrame.\n",
      "Try using .loc[row_indexer,col_indexer] = value instead\n",
      "\n",
      "See the caveats in the documentation: https://pandas.pydata.org/pandas-docs/stable/user_guide/indexing.html#returning-a-view-versus-a-copy\n",
      "  attributes['attributes.crowd'] = attributes['attributes.crowd'].map({True: 1, False: 0})\n",
      "C:\\Users\\Frank\\AppData\\Local\\Temp\\ipykernel_23756\\83198924.py:31: SettingWithCopyWarning: \n",
      "A value is trying to be set on a copy of a slice from a DataFrame.\n",
      "Try using .loc[row_indexer,col_indexer] = value instead\n",
      "\n",
      "See the caveats in the documentation: https://pandas.pydata.org/pandas-docs/stable/user_guide/indexing.html#returning-a-view-versus-a-copy\n",
      "  attributes['category'] = attributes['category'].map({'car': 1, 'pedestrian': 0, 3: 3}).fillna(3).astype(int)\n",
      "C:\\Users\\Frank\\AppData\\Local\\Temp\\ipykernel_23756\\83198924.py:30: SettingWithCopyWarning: \n",
      "A value is trying to be set on a copy of a slice from a DataFrame.\n",
      "Try using .loc[row_indexer,col_indexer] = value instead\n",
      "\n",
      "See the caveats in the documentation: https://pandas.pydata.org/pandas-docs/stable/user_guide/indexing.html#returning-a-view-versus-a-copy\n",
      "  attributes['attributes.crowd'] = attributes['attributes.crowd'].map({True: 1, False: 0})\n",
      "C:\\Users\\Frank\\AppData\\Local\\Temp\\ipykernel_23756\\83198924.py:31: SettingWithCopyWarning: \n",
      "A value is trying to be set on a copy of a slice from a DataFrame.\n",
      "Try using .loc[row_indexer,col_indexer] = value instead\n",
      "\n",
      "See the caveats in the documentation: https://pandas.pydata.org/pandas-docs/stable/user_guide/indexing.html#returning-a-view-versus-a-copy\n",
      "  attributes['category'] = attributes['category'].map({'car': 1, 'pedestrian': 0, 3: 3}).fillna(3).astype(int)\n",
      "C:\\Users\\Frank\\AppData\\Local\\Temp\\ipykernel_23756\\83198924.py:30: SettingWithCopyWarning: \n",
      "A value is trying to be set on a copy of a slice from a DataFrame.\n",
      "Try using .loc[row_indexer,col_indexer] = value instead\n",
      "\n",
      "See the caveats in the documentation: https://pandas.pydata.org/pandas-docs/stable/user_guide/indexing.html#returning-a-view-versus-a-copy\n",
      "  attributes['attributes.crowd'] = attributes['attributes.crowd'].map({True: 1, False: 0})\n",
      "C:\\Users\\Frank\\AppData\\Local\\Temp\\ipykernel_23756\\83198924.py:31: SettingWithCopyWarning: \n",
      "A value is trying to be set on a copy of a slice from a DataFrame.\n",
      "Try using .loc[row_indexer,col_indexer] = value instead\n",
      "\n",
      "See the caveats in the documentation: https://pandas.pydata.org/pandas-docs/stable/user_guide/indexing.html#returning-a-view-versus-a-copy\n",
      "  attributes['category'] = attributes['category'].map({'car': 1, 'pedestrian': 0, 3: 3}).fillna(3).astype(int)\n",
      "C:\\Users\\Frank\\AppData\\Local\\Temp\\ipykernel_23756\\83198924.py:30: SettingWithCopyWarning: \n",
      "A value is trying to be set on a copy of a slice from a DataFrame.\n",
      "Try using .loc[row_indexer,col_indexer] = value instead\n",
      "\n",
      "See the caveats in the documentation: https://pandas.pydata.org/pandas-docs/stable/user_guide/indexing.html#returning-a-view-versus-a-copy\n",
      "  attributes['attributes.crowd'] = attributes['attributes.crowd'].map({True: 1, False: 0})\n",
      "C:\\Users\\Frank\\AppData\\Local\\Temp\\ipykernel_23756\\83198924.py:31: SettingWithCopyWarning: \n",
      "A value is trying to be set on a copy of a slice from a DataFrame.\n",
      "Try using .loc[row_indexer,col_indexer] = value instead\n",
      "\n",
      "See the caveats in the documentation: https://pandas.pydata.org/pandas-docs/stable/user_guide/indexing.html#returning-a-view-versus-a-copy\n",
      "  attributes['category'] = attributes['category'].map({'car': 1, 'pedestrian': 0, 3: 3}).fillna(3).astype(int)\n",
      "C:\\Users\\Frank\\AppData\\Local\\Temp\\ipykernel_23756\\83198924.py:30: SettingWithCopyWarning: \n",
      "A value is trying to be set on a copy of a slice from a DataFrame.\n",
      "Try using .loc[row_indexer,col_indexer] = value instead\n",
      "\n",
      "See the caveats in the documentation: https://pandas.pydata.org/pandas-docs/stable/user_guide/indexing.html#returning-a-view-versus-a-copy\n",
      "  attributes['attributes.crowd'] = attributes['attributes.crowd'].map({True: 1, False: 0})\n",
      "C:\\Users\\Frank\\AppData\\Local\\Temp\\ipykernel_23756\\83198924.py:31: SettingWithCopyWarning: \n",
      "A value is trying to be set on a copy of a slice from a DataFrame.\n",
      "Try using .loc[row_indexer,col_indexer] = value instead\n",
      "\n",
      "See the caveats in the documentation: https://pandas.pydata.org/pandas-docs/stable/user_guide/indexing.html#returning-a-view-versus-a-copy\n",
      "  attributes['category'] = attributes['category'].map({'car': 1, 'pedestrian': 0, 3: 3}).fillna(3).astype(int)\n",
      "C:\\Users\\Frank\\AppData\\Local\\Temp\\ipykernel_23756\\83198924.py:30: SettingWithCopyWarning: \n",
      "A value is trying to be set on a copy of a slice from a DataFrame.\n",
      "Try using .loc[row_indexer,col_indexer] = value instead\n",
      "\n",
      "See the caveats in the documentation: https://pandas.pydata.org/pandas-docs/stable/user_guide/indexing.html#returning-a-view-versus-a-copy\n",
      "  attributes['attributes.crowd'] = attributes['attributes.crowd'].map({True: 1, False: 0})\n",
      "C:\\Users\\Frank\\AppData\\Local\\Temp\\ipykernel_23756\\83198924.py:31: SettingWithCopyWarning: \n",
      "A value is trying to be set on a copy of a slice from a DataFrame.\n",
      "Try using .loc[row_indexer,col_indexer] = value instead\n",
      "\n",
      "See the caveats in the documentation: https://pandas.pydata.org/pandas-docs/stable/user_guide/indexing.html#returning-a-view-versus-a-copy\n",
      "  attributes['category'] = attributes['category'].map({'car': 1, 'pedestrian': 0, 3: 3}).fillna(3).astype(int)\n",
      "C:\\Users\\Frank\\AppData\\Local\\Temp\\ipykernel_23756\\83198924.py:30: SettingWithCopyWarning: \n",
      "A value is trying to be set on a copy of a slice from a DataFrame.\n",
      "Try using .loc[row_indexer,col_indexer] = value instead\n",
      "\n",
      "See the caveats in the documentation: https://pandas.pydata.org/pandas-docs/stable/user_guide/indexing.html#returning-a-view-versus-a-copy\n",
      "  attributes['attributes.crowd'] = attributes['attributes.crowd'].map({True: 1, False: 0})\n",
      "C:\\Users\\Frank\\AppData\\Local\\Temp\\ipykernel_23756\\83198924.py:31: SettingWithCopyWarning: \n",
      "A value is trying to be set on a copy of a slice from a DataFrame.\n",
      "Try using .loc[row_indexer,col_indexer] = value instead\n",
      "\n",
      "See the caveats in the documentation: https://pandas.pydata.org/pandas-docs/stable/user_guide/indexing.html#returning-a-view-versus-a-copy\n",
      "  attributes['category'] = attributes['category'].map({'car': 1, 'pedestrian': 0, 3: 3}).fillna(3).astype(int)\n",
      "C:\\Users\\Frank\\AppData\\Local\\Temp\\ipykernel_23756\\83198924.py:30: SettingWithCopyWarning: \n",
      "A value is trying to be set on a copy of a slice from a DataFrame.\n",
      "Try using .loc[row_indexer,col_indexer] = value instead\n",
      "\n",
      "See the caveats in the documentation: https://pandas.pydata.org/pandas-docs/stable/user_guide/indexing.html#returning-a-view-versus-a-copy\n",
      "  attributes['attributes.crowd'] = attributes['attributes.crowd'].map({True: 1, False: 0})\n",
      "C:\\Users\\Frank\\AppData\\Local\\Temp\\ipykernel_23756\\83198924.py:31: SettingWithCopyWarning: \n",
      "A value is trying to be set on a copy of a slice from a DataFrame.\n",
      "Try using .loc[row_indexer,col_indexer] = value instead\n",
      "\n",
      "See the caveats in the documentation: https://pandas.pydata.org/pandas-docs/stable/user_guide/indexing.html#returning-a-view-versus-a-copy\n",
      "  attributes['category'] = attributes['category'].map({'car': 1, 'pedestrian': 0, 3: 3}).fillna(3).astype(int)\n",
      "C:\\Users\\Frank\\AppData\\Local\\Temp\\ipykernel_23756\\83198924.py:30: SettingWithCopyWarning: \n",
      "A value is trying to be set on a copy of a slice from a DataFrame.\n",
      "Try using .loc[row_indexer,col_indexer] = value instead\n",
      "\n",
      "See the caveats in the documentation: https://pandas.pydata.org/pandas-docs/stable/user_guide/indexing.html#returning-a-view-versus-a-copy\n",
      "  attributes['attributes.crowd'] = attributes['attributes.crowd'].map({True: 1, False: 0})\n",
      "C:\\Users\\Frank\\AppData\\Local\\Temp\\ipykernel_23756\\83198924.py:31: SettingWithCopyWarning: \n",
      "A value is trying to be set on a copy of a slice from a DataFrame.\n",
      "Try using .loc[row_indexer,col_indexer] = value instead\n",
      "\n",
      "See the caveats in the documentation: https://pandas.pydata.org/pandas-docs/stable/user_guide/indexing.html#returning-a-view-versus-a-copy\n",
      "  attributes['category'] = attributes['category'].map({'car': 1, 'pedestrian': 0, 3: 3}).fillna(3).astype(int)\n",
      "C:\\Users\\Frank\\AppData\\Local\\Temp\\ipykernel_23756\\83198924.py:30: SettingWithCopyWarning: \n",
      "A value is trying to be set on a copy of a slice from a DataFrame.\n",
      "Try using .loc[row_indexer,col_indexer] = value instead\n",
      "\n",
      "See the caveats in the documentation: https://pandas.pydata.org/pandas-docs/stable/user_guide/indexing.html#returning-a-view-versus-a-copy\n",
      "  attributes['attributes.crowd'] = attributes['attributes.crowd'].map({True: 1, False: 0})\n",
      "C:\\Users\\Frank\\AppData\\Local\\Temp\\ipykernel_23756\\83198924.py:31: SettingWithCopyWarning: \n",
      "A value is trying to be set on a copy of a slice from a DataFrame.\n",
      "Try using .loc[row_indexer,col_indexer] = value instead\n",
      "\n",
      "See the caveats in the documentation: https://pandas.pydata.org/pandas-docs/stable/user_guide/indexing.html#returning-a-view-versus-a-copy\n",
      "  attributes['category'] = attributes['category'].map({'car': 1, 'pedestrian': 0, 3: 3}).fillna(3).astype(int)\n"
     ]
    }
   ],
   "source": [
    "splitData = graph_multFrame(df, 0, 10, lookback)\n"
   ]
  },
  {
   "cell_type": "code",
   "execution_count": null,
   "metadata": {},
   "outputs": [],
   "source": []
  }
 ],
 "metadata": {
  "kernelspec": {
   "display_name": "base",
   "language": "python",
   "name": "python3"
  },
  "language_info": {
   "codemirror_mode": {
    "name": "ipython",
    "version": 3
   },
   "file_extension": ".py",
   "mimetype": "text/x-python",
   "name": "python",
   "nbconvert_exporter": "python",
   "pygments_lexer": "ipython3",
   "version": "3.9.13"
  },
  "orig_nbformat": 4
 },
 "nbformat": 4,
 "nbformat_minor": 2
}
